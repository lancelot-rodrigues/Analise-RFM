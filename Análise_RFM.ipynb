{
  "nbformat": 4,
  "nbformat_minor": 0,
  "metadata": {
    "colab": {
      "provenance": []
    },
    "kernelspec": {
      "name": "python3",
      "display_name": "Python 3"
    },
    "language_info": {
      "name": "python"
    }
  },
  "cells": [
    {
      "cell_type": "markdown",
      "source": [
        "# 📊 Segmentação de Clientes com Análise RFM e Clustering\n",
        "\n",
        "Este projeto simula o trabalho de um analista de dados em uma empresa britânica de e-commerce que vende presentes exclusivos. O objetivo é aplicar técnicas de segmentação de clientes com base em dados transacionais coletados entre dezembro de 2010 e dezembro de 2011.\n",
        "\n",
        "Com a análise, buscamos apoiar as áreas de Marketing, Vendas e Produtos a tomarem decisões estratégicas personalizadas para cada perfil de cliente."
      ],
      "metadata": {
        "id": "6z-GelhZ85h6"
      }
    },
    {
      "cell_type": "markdown",
      "source": [
        "## 🧠 Entendimento do Negócio e Objetivo\n",
        "\n",
        "A empresa fictícia deste projeto é um e-commerce britânico especializado na venda de presentes exclusivos. Ela opera majoritariamente online, com uma grande base de clientes B2B (atacadistas). O negócio precisa entender melhor seus clientes para personalizar ações de marketing, promoções e campanhas de fidelização.\n",
        "\n",
        "### 🎯 Objetivo do Projeto\n",
        "\n",
        "O objetivo principal é aplicar **análise RFM (Recência, Frequência, Valor Monetário)** e técnicas de **clusterização** para segmentar os clientes com base no comportamento de compra.\n",
        "\n",
        "Com esses segmentos, as áreas de **Marketing**, **Vendas** e **Produtos** poderão tomar decisões estratégicas e personalizadas com base nos perfis identificados.\n"
      ],
      "metadata": {
        "id": "ZHuWCz1E9EDX"
      }
    },
    {
      "cell_type": "code",
      "source": [
        "# Bloco 1: Instalar biblioteca squarify para o gráfico treemap\n",
        "#!pip install squarify"
      ],
      "metadata": {
        "id": "9-xJHI5hCbkD"
      },
      "execution_count": 28,
      "outputs": []
    },
    {
      "cell_type": "code",
      "execution_count": 29,
      "metadata": {
        "id": "AHMoTH4D83vE"
      },
      "outputs": [],
      "source": [
        "# Bloco 2: Importação das bibliotecas\n",
        "import pandas as pd\n",
        "import numpy as np\n",
        "import matplotlib.pyplot as plt\n",
        "import seaborn as sns\n",
        "import datetime as dt\n",
        "import warnings\n",
        "import os\n",
        "import squarify\n",
        "from sklearn.preprocessing import StandardScaler\n",
        "from sklearn.cluster import KMeans\n",
        "\n",
        "warnings.filterwarnings('ignore')"
      ]
    },
    {
      "cell_type": "code",
      "source": [
        "# Bloco 3: Carregar o arquivo CSV (ajuste o caminho se necessário)\n",
        "try:\n",
        "    df = pd.read_csv(\"Online Retail.csv\", encoding='ISO-8859-1', sep=',')\n",
        "    print(\"Arquivo 'Online Retail.csv' carregado com sucesso.\")\n",
        "except FileNotFoundError:\n",
        "    print(\"Erro: Arquivo 'Online Retail.csv' não encontrado.\")\n",
        "    print(\"Certifique-se de que o arquivo está no mesmo diretório do notebook ou forneça o caminho completo.\")\n",
        "    df = None # Define df como None para evitar erros nas células seguintes se o arquivo não for carregado\n",
        "\n",
        "if df is not None:\n",
        "    # Conversão da coluna de datas\n",
        "    df['InvoiceDate'] = pd.to_datetime(df['InvoiceDate'])\n",
        "    print(\"\\nPrimeiras linhas do DataFrame:\")\n",
        "    print(df.head())"
      ],
      "metadata": {
        "colab": {
          "base_uri": "https://localhost:8080/"
        },
        "id": "zyVkLyna-gOi",
        "outputId": "031ce385-b79d-4e51-8adf-79460fa058b7"
      },
      "execution_count": 30,
      "outputs": [
        {
          "output_type": "stream",
          "name": "stdout",
          "text": [
            "Arquivo 'Online Retail.csv' carregado com sucesso.\n",
            "\n",
            "Primeiras linhas do DataFrame:\n",
            "  InvoiceNo StockCode                          Description  Quantity  \\\n",
            "0    536365    85123A   WHITE HANGING HEART T-LIGHT HOLDER         6   \n",
            "1    536365     71053                  WHITE METAL LANTERN         6   \n",
            "2    536365    84406B       CREAM CUPID HEARTS COAT HANGER         8   \n",
            "3    536365    84029G  KNITTED UNION FLAG HOT WATER BOTTLE         6   \n",
            "4    536365    84029E       RED WOOLLY HOTTIE WHITE HEART.         6   \n",
            "\n",
            "          InvoiceDate  UnitPrice  CustomerID         Country  \n",
            "0 2010-12-01 08:26:00       2.55     17850.0  United Kingdom  \n",
            "1 2010-12-01 08:26:00       3.39     17850.0  United Kingdom  \n",
            "2 2010-12-01 08:26:00       2.75     17850.0  United Kingdom  \n",
            "3 2010-12-01 08:26:00       3.39     17850.0  United Kingdom  \n",
            "4 2010-12-01 08:26:00       3.39     17850.0  United Kingdom  \n"
          ]
        }
      ]
    },
    {
      "cell_type": "code",
      "source": [
        "# Bloco 4: Cria a pasta 'imagens' se ela não existir\n",
        "if not os.path.exists(\"imagens\"):\n",
        "    os.makedirs(\"imagens\")\n",
        "    print(\"Pasta 'imagens' criada.\")\n",
        "else:\n",
        "    print(\"Pasta 'imagens' já existe.\")"
      ],
      "metadata": {
        "colab": {
          "base_uri": "https://localhost:8080/"
        },
        "id": "Owp-KiJJ-jDK",
        "outputId": "34a181e5-3f57-4ced-9047-20d3daa6f82c"
      },
      "execution_count": 31,
      "outputs": [
        {
          "output_type": "stream",
          "name": "stdout",
          "text": [
            "Pasta 'imagens' já existe.\n"
          ]
        }
      ]
    },
    {
      "cell_type": "code",
      "source": [
        "# Bloco 5: Pré-processamento e Limpeza dos Dados\n",
        "if df is not None:\n",
        "    print(f\"Tamanho original: {df.shape}\")\n",
        "    # Remover linhas com CustomerID nulo, essencial para RFM\n",
        "    df.dropna(subset=['CustomerID'], inplace=True)\n",
        "    print(f\"Tamanho após remover CustomerID nulo: {df.shape}\")\n",
        "\n",
        "    # Remover transações canceladas (InvoiceNo começando com 'C')\n",
        "    df = df[~df['InvoiceNo'].astype(str).str.startswith('C')]\n",
        "    print(f\"Tamanho após remover cancelados: {df.shape}\")\n",
        "\n",
        "    # Remover linhas onde Quantidade ou Preço Unitário são negativos ou zero (se apropriado)\n",
        "    df = df[df['Quantity'] > 0]\n",
        "    df = df[df['UnitPrice'] > 0]\n",
        "    print(f\"Tamanho após remover Quantidade/Preço Unitário <= 0: {df.shape}\")\n",
        "\n",
        "    # Converter CustomerID para inteiro (após remover nulos)\n",
        "    df['CustomerID'] = df['CustomerID'].astype(int)\n",
        "\n",
        "    print(\"\\nDataFrame após limpeza inicial:\")\n",
        "    print(df.head())\n",
        "else:\n",
        "    print(\"DataFrame não carregado. Pulando limpeza.\")"
      ],
      "metadata": {
        "colab": {
          "base_uri": "https://localhost:8080/"
        },
        "id": "TQv7F9IL-mWA",
        "outputId": "34158c58-49c2-4e7a-8e06-6a5fe875bfb0"
      },
      "execution_count": 32,
      "outputs": [
        {
          "output_type": "stream",
          "name": "stdout",
          "text": [
            "Tamanho original: (541909, 8)\n",
            "Tamanho após remover CustomerID nulo: (406829, 8)\n",
            "Tamanho após remover cancelados: (397924, 8)\n",
            "Tamanho após remover Quantidade/Preço Unitário <= 0: (397884, 8)\n",
            "\n",
            "DataFrame após limpeza inicial:\n",
            "  InvoiceNo StockCode                          Description  Quantity  \\\n",
            "0    536365    85123A   WHITE HANGING HEART T-LIGHT HOLDER         6   \n",
            "1    536365     71053                  WHITE METAL LANTERN         6   \n",
            "2    536365    84406B       CREAM CUPID HEARTS COAT HANGER         8   \n",
            "3    536365    84029G  KNITTED UNION FLAG HOT WATER BOTTLE         6   \n",
            "4    536365    84029E       RED WOOLLY HOTTIE WHITE HEART.         6   \n",
            "\n",
            "          InvoiceDate  UnitPrice  CustomerID         Country  \n",
            "0 2010-12-01 08:26:00       2.55       17850  United Kingdom  \n",
            "1 2010-12-01 08:26:00       3.39       17850  United Kingdom  \n",
            "2 2010-12-01 08:26:00       2.75       17850  United Kingdom  \n",
            "3 2010-12-01 08:26:00       3.39       17850  United Kingdom  \n",
            "4 2010-12-01 08:26:00       3.39       17850  United Kingdom  \n"
          ]
        }
      ]
    },
    {
      "cell_type": "code",
      "source": [
        "# Bloco 6: Criar coluna TotalGasto\n",
        "if df is not None:\n",
        "    df['TotalGasto'] = df['Quantity'] * df['UnitPrice']\n",
        "    print(\"\\nDataFrame com a coluna 'TotalGasto':\")\n",
        "    print(df.head())\n",
        "else:\n",
        "    print(\"DataFrame não carregado. Pulando cálculo de TotalGasto.\")"
      ],
      "metadata": {
        "colab": {
          "base_uri": "https://localhost:8080/"
        },
        "id": "67eONjQ5-mf9",
        "outputId": "f05127b8-ac74-4239-c433-5360b2fe3e82"
      },
      "execution_count": 33,
      "outputs": [
        {
          "output_type": "stream",
          "name": "stdout",
          "text": [
            "\n",
            "DataFrame com a coluna 'TotalGasto':\n",
            "  InvoiceNo StockCode                          Description  Quantity  \\\n",
            "0    536365    85123A   WHITE HANGING HEART T-LIGHT HOLDER         6   \n",
            "1    536365     71053                  WHITE METAL LANTERN         6   \n",
            "2    536365    84406B       CREAM CUPID HEARTS COAT HANGER         8   \n",
            "3    536365    84029G  KNITTED UNION FLAG HOT WATER BOTTLE         6   \n",
            "4    536365    84029E       RED WOOLLY HOTTIE WHITE HEART.         6   \n",
            "\n",
            "          InvoiceDate  UnitPrice  CustomerID         Country  TotalGasto  \n",
            "0 2010-12-01 08:26:00       2.55       17850  United Kingdom       15.30  \n",
            "1 2010-12-01 08:26:00       3.39       17850  United Kingdom       20.34  \n",
            "2 2010-12-01 08:26:00       2.75       17850  United Kingdom       22.00  \n",
            "3 2010-12-01 08:26:00       3.39       17850  United Kingdom       20.34  \n",
            "4 2010-12-01 08:26:00       3.39       17850  United Kingdom       20.34  \n"
          ]
        }
      ]
    },
    {
      "cell_type": "code",
      "source": [
        "# Bloco 7: Análise Exploratória - Top 10 Países com Mais Pedidos\n",
        "if df is not None:\n",
        "    pedidos_pais = df['Country'].value_counts()\n",
        "\n",
        "    plt.figure(figsize=(12, 6))\n",
        "    pedidos_pais[:10].plot(kind='barh', color='royalblue')\n",
        "    plt.title('Top 10 Países com Mais Pedidos')\n",
        "    plt.xlabel('Número de Linhas de Pedido (Transações)')\n",
        "    plt.ylabel('País')\n",
        "    plt.gca().invert_yaxis() # O país com mais pedidos fica no topo\n",
        "\n",
        "    # Salvar gráfico\n",
        "    plt.tight_layout()\n",
        "    plt.savefig('imagens/pedidos_por_pais.png')\n",
        "    plt.show()\n",
        "else:\n",
        "    print(\"DataFrame não carregado. Pulando gráfico de pedidos por país.\")"
      ],
      "metadata": {
        "colab": {
          "base_uri": "https://localhost:8080/",
          "height": 607
        },
        "id": "tZFbK5kB-mpp",
        "outputId": "aff9c713-b8e6-495a-87e6-fadf3565853b"
      },
      "execution_count": 34,
      "outputs": [
        {
          "output_type": "display_data",
          "data": {
            "text/plain": [
              "<Figure size 1200x600 with 1 Axes>"
            ],
            "image/png": "[encoded data removed]"
          },
          "metadata": {}
        }
      ]
    },
    {
      "cell_type": "code",
      "source": [
        "# Bloco 8: Cálculo dos valores de Recência, Frequência e Monetário\n",
        "if df is not None:\n",
        "    # Data de referência para recência (um dia após a última data no dataset)\n",
        "    data_ref = df['InvoiceDate'].max() + dt.timedelta(days=1)\n",
        "    print(f\"Data de referência para cálculo da Recência: {data_ref.strftime('%Y-%m-%d')}\")\n",
        "\n",
        "    # Agrupamento por Cliente para calcular R, F, M\n",
        "    rfm = df.groupby('CustomerID').agg({\n",
        "        'InvoiceDate': lambda x: (data_ref - x.max()).days,  # Recência\n",
        "        'InvoiceNo': 'nunique',                             # Frequência (número de pedidos únicos)\n",
        "        'TotalGasto': 'sum'                                 # Valor Monetário\n",
        "    })\n",
        "\n",
        "    # Renomear colunas\n",
        "    rfm.columns = ['Recencia', 'Frequencia', 'ValorMonetario']\n",
        "\n",
        "    # Remover possíveis clientes com valor monetário zero ou negativo (embora já filtrado antes)\n",
        "    rfm = rfm[rfm['ValorMonetario'] > 0]\n",
        "    print(f\"\\nTamanho do DataFrame RFM: {rfm.shape}\")\n",
        "\n",
        "    print(\"\\nDataFrame RFM calculado:\")\n",
        "    print(rfm.head())\n",
        "else:\n",
        "    print(\"DataFrame original não carregado. Pulando cálculo RFM.\")"
      ],
      "metadata": {
        "colab": {
          "base_uri": "https://localhost:8080/"
        },
        "id": "My-1jYj--mzZ",
        "outputId": "4186a244-fbfd-495c-d6f1-4497517aa592"
      },
      "execution_count": 35,
      "outputs": [
        {
          "output_type": "stream",
          "name": "stdout",
          "text": [
            "Data de referência para cálculo da Recência: 2011-12-10\n",
            "\n",
            "Tamanho do DataFrame RFM: (4338, 3)\n",
            "\n",
            "DataFrame RFM calculado:\n",
            "            Recencia  Frequencia  ValorMonetario\n",
            "CustomerID                                      \n",
            "12346            326           1        77183.60\n",
            "12347              2           7         4310.00\n",
            "12348             75           4         1797.24\n",
            "12349             19           1         1757.55\n",
            "12350            310           1          334.40\n"
          ]
        }
      ]
    },
    {
      "cell_type": "code",
      "source": [
        "# Bloco 9: Calcular Scores RFM (usando quartis)\n",
        "if 'rfm' in locals() and rfm is not None:\n",
        "    # Criar quantis (usando quartis - 4 grupos)\n",
        "    quantiles = rfm[['Recencia', 'Frequencia', 'ValorMonetario']].quantile(q=[0.25, 0.5, 0.75]).to_dict()\n",
        "\n",
        "    # Funções para atribuir scores R, F, M\n",
        "    def r_score(x, p, d):\n",
        "        if x <= d[p][0.25]: return 4\n",
        "        elif x <= d[p][0.50]: return 3\n",
        "        elif x <= d[p][0.75]: return 2\n",
        "        else: return 1\n",
        "\n",
        "    def fm_score(x, p, d):\n",
        "        if x <= d[p][0.25]: return 1\n",
        "        elif x <= d[p][0.50]: return 2\n",
        "        elif x <= d[p][0.75]: return 3\n",
        "        else: return 4\n",
        "\n",
        "    # Calcular colunas de scores R, F, M\n",
        "    rfm['R'] = rfm['Recencia'].apply(r_score, args=('Recencia', quantiles,))\n",
        "    rfm['F'] = rfm['Frequencia'].apply(fm_score, args=('Frequencia', quantiles,))\n",
        "    rfm['M'] = rfm['ValorMonetario'].apply(fm_score, args=('ValorMonetario', quantiles,))\n",
        "\n",
        "    print(\"DataFrame RFM com Scores R, F, M adicionados:\")\n",
        "    print(rfm.head())\n",
        "else:\n",
        "    print(\"DataFrame RFM não calculado. Pulando cálculo de Scores.\")"
      ],
      "metadata": {
        "colab": {
          "base_uri": "https://localhost:8080/"
        },
        "id": "_O34k6P8-m-5",
        "outputId": "9fff1547-16cd-4404-e709-0c6a16d9f717"
      },
      "execution_count": 36,
      "outputs": [
        {
          "output_type": "stream",
          "name": "stdout",
          "text": [
            "DataFrame RFM com Scores R, F, M adicionados:\n",
            "            Recencia  Frequencia  ValorMonetario  R  F  M\n",
            "CustomerID                                               \n",
            "12346            326           1        77183.60  1  1  4\n",
            "12347              2           7         4310.00  4  4  4\n",
            "12348             75           4         1797.24  2  3  4\n",
            "12349             19           1         1757.55  3  1  4\n",
            "12350            310           1          334.40  1  1  2\n"
          ]
        }
      ]
    },
    {
      "cell_type": "code",
      "source": [
        "# Bloco 10: Definir Segmentos RFM e adicionar coluna 'Segmento'\n",
        "if 'rfm' in locals() and rfm is not None:\n",
        "    # Função para mapear scores R e F para nomes de segmentos\n",
        "    def assign_segment(row):\n",
        "        if row['R'] >= 4 and row['F'] >= 4: return 'Campeões'\n",
        "        elif row['R'] >= 3 and row['F'] >= 3: return 'Fiéis'\n",
        "        elif row['R'] >= 4 and row['F'] <= 2: return 'Novos/Promissores'\n",
        "        elif row['R'] <= 2 and row['F'] >= 3: return 'Em Risco'\n",
        "        elif row['R'] <= 2 and row['F'] <= 2: return 'Hibernando/Perdidos'\n",
        "        elif row['R'] == 3 and row['F'] <= 2: return 'Atenção Necessária'\n",
        "        else: return 'Outros'\n",
        "\n",
        "    # Aplicar a função para criar a coluna 'Segmento'\n",
        "    rfm['Segmento'] = rfm.apply(assign_segment, axis=1)\n",
        "\n",
        "    print(\"\\nDataFrame RFM com a coluna 'Segmento':\")\n",
        "    print(rfm.head())\n",
        "\n",
        "    # Verificar a contagem de clientes em cada segmento\n",
        "    print(\"\\nDistribuição dos Clientes por Segmento:\")\n",
        "    print(rfm['Segmento'].value_counts())\n",
        "else:\n",
        "    print(\"DataFrame RFM não disponível. Pulando definição de segmentos.\")"
      ],
      "metadata": {
        "colab": {
          "base_uri": "https://localhost:8080/"
        },
        "id": "xdVZy_Pj-nKM",
        "outputId": "7c9de537-e531-46ef-ac0b-3d99e5b4a8de"
      },
      "execution_count": 37,
      "outputs": [
        {
          "output_type": "stream",
          "name": "stdout",
          "text": [
            "\n",
            "DataFrame RFM com a coluna 'Segmento':\n",
            "            Recencia  Frequencia  ValorMonetario  R  F  M             Segmento\n",
            "CustomerID                                                                    \n",
            "12346            326           1        77183.60  1  1  4  Hibernando/Perdidos\n",
            "12347              2           7         4310.00  4  4  4             Campeões\n",
            "12348             75           4         1797.24  2  3  4             Em Risco\n",
            "12349             19           1         1757.55  3  1  4   Atenção Necessária\n",
            "12350            310           1          334.40  1  1  2  Hibernando/Perdidos\n",
            "\n",
            "Distribuição dos Clientes por Segmento:\n",
            "Segmento\n",
            "Hibernando/Perdidos    1589\n",
            "Fiéis                   920\n",
            "Em Risco                561\n",
            "Campeões                529\n",
            "Atenção Necessária      471\n",
            "Novos/Promissores       268\n",
            "Name: count, dtype: int64\n"
          ]
        }
      ]
    },
    {
      "cell_type": "code",
      "source": [
        "# Bloco 11: Visualizar Segmentos com Treemap\n",
        "if 'rfm' in locals() and rfm is not None:\n",
        "    # Contagem de clientes por segmento\n",
        "    segment_counts = rfm['Segmento'].value_counts().reset_index()\n",
        "    segment_counts.columns = ['Segmento', 'Contagem']\n",
        "\n",
        "    # Ordenar segmentos por contagem para melhor visualização no treemap\n",
        "    segment_counts = segment_counts.sort_values(by='Contagem', ascending=False)\n",
        "\n",
        "    # Gerar cores automaticamente usando uma paleta Seaborn\n",
        "    num_segments = len(segment_counts['Segmento'])\n",
        "    colors = sns.color_palette('tab10', num_segments)\n",
        "\n",
        "    # Mapear segmentos para cores\n",
        "    segment_color_map = dict(zip(segment_counts['Segmento'], colors))\n",
        "    plot_colors_sorted = [segment_color_map[seg] for seg in segment_counts['Segmento']]\n",
        "\n",
        "    # Gráfico treemap\n",
        "    plt.figure(figsize=(15, 9))\n",
        "    squarify.plot(sizes=segment_counts['Contagem'],\n",
        "                  label=[f\"{seg}\\\\n({cont:,})\" for seg, cont in zip(segment_counts['Segmento'], segment_counts['Contagem'])],\n",
        "                  color=plot_colors_sorted,\n",
        "                  alpha=0.8,\n",
        "                  text_kwargs={'fontsize':10, 'color':'white', 'weight':'bold'}\n",
        "                 )\n",
        "\n",
        "    plt.title(\"Distribuição dos Clientes por Segmento RFM\", fontsize=18)\n",
        "    plt.axis('off')\n",
        "\n",
        "    # Salvar gráfico na pasta 'imagens'\n",
        "    plt.savefig('imagens/segmentacao_rfm_treemap.png', dpi=300, bbox_inches='tight')\n",
        "\n",
        "    plt.show()\n",
        "else:\n",
        "    print(\"DataFrame RFM não disponível. Pulando gráfico Treemap.\")"
      ],
      "metadata": {
        "colab": {
          "base_uri": "https://localhost:8080/",
          "height": 757
        },
        "id": "lfGDmVW4-nXE",
        "outputId": "eb2bff87-27c1-45c2-a83f-8e04e05d37de"
      },
      "execution_count": 38,
      "outputs": [
        {
          "output_type": "display_data",
          "data": {
            "text/plain": [
              "<Figure size 1500x900 with 1 Axes>"
            ],
            "image/png": "[encoded data removed]"
          },
          "metadata": {}
        }
      ]
    },
    {
      "cell_type": "code",
      "source": [
        "# Bloco 12: Clusterização K-Means (Como estava no notebook original, pode ser complementar ou alternativo à segmentação por score)\n",
        "if 'rfm' in locals() and rfm is not None:\n",
        "    # Selecionar apenas as colunas numéricas originais do RFM para normalização\n",
        "    rfm_features = rfm[['Recencia', 'Frequencia', 'ValorMonetario']]\n",
        "\n",
        "    scaler = StandardScaler()\n",
        "    rfm_normalizado = scaler.fit_transform(rfm_features)\n",
        "\n",
        "    # Treinando com 4 clusters (pode-se usar o método do cotovelo para escolher k)\n",
        "    kmeans = KMeans(n_clusters=4, random_state=42, n_init=10) # n_init=10 é o padrão e suprime warnings\n",
        "    kmeans.fit(rfm_normalizado)\n",
        "\n",
        "    # Adiciona coluna de cluster ao DataFrame RFM original (rfm)\n",
        "    rfm['Cluster_KMeans'] = kmeans.labels_\n",
        "\n",
        "    print(\"\\nDataFrame RFM com coluna 'Cluster_KMeans':\")\n",
        "    print(rfm.head())\n",
        "\n",
        "    # Analisar as características médias de cada cluster KMeans\n",
        "    print(\"\\nAnálise dos Clusters K-Means (Médias):\")\n",
        "    cluster_analysis_kmeans = rfm.groupby('Cluster_KMeans').agg({\n",
        "        'Recencia': 'mean',\n",
        "        'Frequencia': 'mean',\n",
        "        'ValorMonetario': ['mean', 'count'] # Adiciona contagem\n",
        "    }).round(1)\n",
        "    print(cluster_analysis_kmeans)\n",
        "else:\n",
        "    print(\"DataFrame RFM não disponível. Pulando Clusterização K-Means.\")"
      ],
      "metadata": {
        "colab": {
          "base_uri": "https://localhost:8080/"
        },
        "id": "raeIMHO7-nic",
        "outputId": "e80e1ec2-684d-4449-ca69-fc134d5b0db3"
      },
      "execution_count": 39,
      "outputs": [
        {
          "output_type": "stream",
          "name": "stdout",
          "text": [
            "\n",
            "DataFrame RFM com coluna 'Cluster_KMeans':\n",
            "            Recencia  Frequencia  ValorMonetario  R  F  M  \\\n",
            "CustomerID                                                  \n",
            "12346            326           1        77183.60  1  1  4   \n",
            "12347              2           7         4310.00  4  4  4   \n",
            "12348             75           4         1797.24  2  3  4   \n",
            "12349             19           1         1757.55  3  1  4   \n",
            "12350            310           1          334.40  1  1  2   \n",
            "\n",
            "                       Segmento  Cluster_KMeans  \n",
            "CustomerID                                       \n",
            "12346       Hibernando/Perdidos               3  \n",
            "12347                  Campeões               0  \n",
            "12348                  Em Risco               0  \n",
            "12349        Atenção Necessária               0  \n",
            "12350       Hibernando/Perdidos               1  \n",
            "\n",
            "Análise dos Clusters K-Means (Médias):\n",
            "               Recencia Frequencia ValorMonetario      \n",
            "                   mean       mean           mean count\n",
            "Cluster_KMeans                                         \n",
            "0                  43.7        3.7         1359.0  3054\n",
            "1                 248.1        1.6          480.6  1067\n",
            "2                   7.4       82.5       127338.3    13\n",
            "3                  15.5       22.3        12709.1   204\n"
          ]
        }
      ]
    }
  ]
}